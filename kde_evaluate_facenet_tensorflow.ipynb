{
 "cells": [
  {
   "cell_type": "code",
   "execution_count": null,
   "id": "83a88eba",
   "metadata": {},
   "outputs": [],
   "source": [
    "%cd facenet_v2/src\n",
    "!pwd\n",
    "from __future__ import absolute_import\n",
    "from __future__ import division\n",
    "from __future__ import print_function\n",
    "\n",
    "from scipy import misc\n",
    "from PIL import Image"
   ]
  },
  {
   "cell_type": "code",
   "execution_count": null,
   "id": "01c11ca5",
   "metadata": {},
   "outputs": [],
   "source": [
    "import tensorflow as tf\n",
    "import numpy as np\n",
    "import sys\n",
    "import os\n",
    "import copy\n",
    "import argparse\n",
    "import facenet\n",
    "import align.detect_face\n",
    "import imageio"
   ]
  },
  {
   "cell_type": "code",
   "execution_count": null,
   "id": "2ee1ca93",
   "metadata": {},
   "outputs": [],
   "source": [
    "def main(lis_name,model_path,lis_em):\n",
    "\n",
    "    images = load_data(lis_name, 160, 1)\n",
    "    \n",
    "    with tf.Graph().as_default():\n",
    "\n",
    "        with tf.compat.v1.Session() as sess:\n",
    "      \n",
    "            # Load the model\n",
    "            facenet.load_model(model_path)\n",
    "    \n",
    "            # Get input and output tensors\n",
    "            images_placeholder = tf.compat.v1.get_default_graph().get_tensor_by_name(\"input:0\")\n",
    "            embeddings = tf.compat.v1.get_default_graph().get_tensor_by_name(\"embeddings:0\")\n",
    "            phase_train_placeholder = tf.compat.v1.get_default_graph().get_tensor_by_name(\"phase_train:0\")\n",
    "            feed_dict = { images_placeholder: images, phase_train_placeholder:False }\n",
    "            emb = sess.run(embeddings, feed_dict=feed_dict)\n",
    "            lis_em.append(emb)\n",
    "            nrof_images = len(lis_name)\n",
    "    return lis_em             \n",
    "            \n",
    "def load_data(image_paths, image_size, gpu_memory_fraction):\n",
    "    img_list = []\n",
    "    for image in image_paths:\n",
    "        img = np.array(Image.open(image)).astype(np.float32)\n",
    "        prewhitened = (img - 127.5)/128\n",
    "        img_list.append(prewhitened)\n",
    "    images = np.stack(img_list)\n",
    "    return images"
   ]
  },
  {
   "cell_type": "code",
   "execution_count": null,
   "id": "637a7bd8",
   "metadata": {},
   "outputs": [],
   "source": [
    "lis_em=[]\n",
    "count = 0\n",
    "lis_name=[]\n",
    "classMap=dict()\n",
    "lis_name_las=[]\n",
    "#model_path='./evaluate'\n",
    "model_path='../../facenet_triplet/models/triplet/20221018-221109'\n",
    "from glob import glob\n",
    "len_image=len([name for name in glob('../../new-cluster_160/*/*.png') if os.path.isfile(name)])\n",
    "print(len_image)"
   ]
  },
  {
   "cell_type": "code",
   "execution_count": null,
   "id": "649433c7",
   "metadata": {},
   "outputs": [],
   "source": [
    "for f in glob('../../new-cluster_160/*/*.png'):\n",
    "            if count % 100 == 0:\n",
    "                print(f'#{count}')\n",
    "                if len(lis_name)!=0 and count<len_image:\n",
    "                    print(lis_name)\n",
    "                    print(len(lis_name))\n",
    "                    main(lis_name,model_path,lis_em)\n",
    "                    lis_name=[]\n",
    "                    print('len_em:',len(lis_em))\n",
    "                    print('--------------------------------------')                    \n",
    "            \n",
    "            paths = f.split('/')\n",
    "            cls = paths[-2]\n",
    "            name = paths[-1]\n",
    "            classMap[name]=cls           \n",
    "            lis_name.append(f)\n",
    "            lis_name_las.append(name)\n",
    "            \n",
    "            count += 1\n",
    "            \n",
    "            if (count==len_image) and (len(lis_name)!=0):\n",
    "                    main(lis_name,model_path,lis_em)\n",
    "                    print(lis_name)\n",
    "                    lis_name=[]\n",
    "                    print('len_em:',len(lis_em))\n",
    "print(count)"
   ]
  },
  {
   "cell_type": "code",
   "execution_count": null,
   "id": "ddb74c9f",
   "metadata": {},
   "outputs": [],
   "source": [
    "#lưu embedding và name\n",
    "import pickle\n",
    "with open(\"./kde/my_embed1\", \"wb\") as f_em:\n",
    "    pickle.dump(lis_em, f_em)\n",
    "with open(\"./kde/my_name1\", \"wb\") as f_name:   \n",
    "    pickle.dump(lis_name_las,f_name)\n",
    "with open(\"./kde/class_map1\", \"wb\") as f_class:   \n",
    "    pickle.dump(classMap,f_class)\n",
    "load\n",
    "import pickle\n",
    "with open(\"./kde/my_embed1\", \"rb\") as f_em: \n",
    "    lis_em = pickle.load(f_em)\n",
    "with open(\"./kde/my_name1\", \"rb\") as f_name:  \n",
    "    lis_name_las = pickle.load(f_name)\n",
    "with open(\"./kde/class_map1\", \"rb\") as f_class:   \n",
    "    classMap=pickle.load(f_class)"
   ]
  },
  {
   "cell_type": "code",
   "execution_count": null,
   "id": "9cb90493",
   "metadata": {},
   "outputs": [],
   "source": [
    "#xử lí embedding\n",
    "mang=[]\n",
    "for x in lis_em:\n",
    "    for i in x:\n",
    "        mang.append(i)\n",
    "my_embed=np.array([mang]).squeeze(0)\n",
    "np.save('./kde/embed_arr1.npy', my_embed)\n",
    "print(len(mang))\n",
    "print(lis_name_las[0])\n",
    "print(classMap[lis_name_las[0]])"
   ]
  },
  {
   "cell_type": "code",
   "execution_count": null,
   "id": "c3460b02",
   "metadata": {},
   "outputs": [],
   "source": [
    "my_embed=np.load('./kde/embed_arr1.npy', allow_pickle = True)\n",
    "print(my_embed.shape)"
   ]
  },
  {
   "cell_type": "code",
   "execution_count": null,
   "id": "8205fcf4",
   "metadata": {},
   "outputs": [],
   "source": [
    "from scipy.spatial import distance\n",
    "dis1 = distance.cdist(my_embed, my_embed, 'euclidean')\n",
    "np.save('./kde/distance1.npy', dis1)\n",
    "matrix=[]\n",
    "print(dis1.shape[0],dis1.shape[1])\n",
    "for i in range(1,dis1.shape[0]):\n",
    "    for j in range(0,i):\n",
    "        classify = 'TRUE' if classMap[lis_name_las[i]]==classMap[lis_name_las[j]] else 'FALSE'\n",
    "        matrix.append([lis_name_las[i],lis_name_las[j],dis1[i,j],classify])\n",
    "print(len(matrix))"
   ]
  },
  {
   "cell_type": "code",
   "execution_count": null,
   "id": "37c582b8",
   "metadata": {},
   "outputs": [],
   "source": [
    "#plot kde\n",
    "dist=np.array([float(row[2]) for row in matrix])\n",
    "label = np.array([row[3] == 'TRUE' for row in matrix])\n",
    "thresholds = np.arange(np.min(dist), np.max(dist), 0.01)\n",
    "from scipy.stats import gaussian_kde\n",
    "import matplotlib.pyplot as plt\n",
    "density_yes = gaussian_kde(dist[label])\n",
    "density_no = gaussian_kde(dist[label == False])\n",
    "plt.plot(thresholds, density_yes(thresholds), label='yes')\n",
    "plt.plot(thresholds, density_no(thresholds), label='no')\n",
    "plt.legend()\n",
    "plt.xlabel('distance')\n",
    "plt.show("
   ]
  },
  {
   "cell_type": "code",
   "execution_count": null,
   "id": "6610421b",
   "metadata": {},
   "outputs": [],
   "source": [
    "import seaborn\n",
    "seaborn.kdeplot(data=dist[label])\n",
    "seaborn.kdeplot(data=dist[label == False])"
   ]
  }
 ],
 "metadata": {
  "kernelspec": {
   "display_name": "Python 3 (ipykernel)",
   "language": "python",
   "name": "python3"
  },
  "language_info": {
   "codemirror_mode": {
    "name": "ipython",
    "version": 3
   },
   "file_extension": ".py",
   "mimetype": "text/x-python",
   "name": "python",
   "nbconvert_exporter": "python",
   "pygments_lexer": "ipython3",
   "version": "3.10.6"
  }
 },
 "nbformat": 4,
 "nbformat_minor": 5
}
